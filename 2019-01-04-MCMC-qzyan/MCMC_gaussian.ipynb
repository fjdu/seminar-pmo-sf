{
 "cells": [
  {
   "cell_type": "markdown",
   "metadata": {},
   "source": [
    "This notebook show the procedure of fitting a gaussian distribution with MCMC.\n",
    "\n",
    "Given the mean $\\mu$ and std $\\sigma$, the likelihood of observing $x$ is \n",
    "\n",
    "$$ P\\left(x|\\mu,\\sigma \\right)= \\frac{1}{\\sqrt{2\\pi}\\sigma} \\exp\\left( -\\frac{\\left(x-\\mu\\right)^2}{2\\sigma^2} \\right)$$\n",
    "\n",
    "\n",
    "If you have many $x$s, simply multiply them. In practice, better use log form. The log of likelihood is \n",
    "\n",
    "$$ \\log P\\left(x|\\mu,\\sigma \\right)= -0.5*\\log\\left(2\\pi\\right)-\\log\\left(\\sigma\\right)  -\\frac{\\left(x-\\mu\\right)^2}{2\\sigma^2}  $$"
   ]
  },
  {
   "cell_type": "code",
   "execution_count": null,
   "metadata": {
    "collapsed": true
   },
   "outputs": [],
   "source": []
  }
 ],
 "metadata": {
  "kernelspec": {
   "display_name": "Python 2",
   "language": "python",
   "name": "python2"
  },
  "language_info": {
   "codemirror_mode": {
    "name": "ipython",
    "version": 2
   },
   "file_extension": ".py",
   "mimetype": "text/x-python",
   "name": "python",
   "nbconvert_exporter": "python",
   "pygments_lexer": "ipython2",
   "version": "2.7.14"
  }
 },
 "nbformat": 4,
 "nbformat_minor": 2
}
