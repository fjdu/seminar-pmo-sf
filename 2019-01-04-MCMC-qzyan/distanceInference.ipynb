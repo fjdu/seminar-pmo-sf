{
 "cells": [
  {
   "cell_type": "markdown",
   "metadata": {},
   "source": [
    "This notebook shows the inference of distances with parallaxes"
   ]
  },
  {
   "cell_type": "markdown",
   "metadata": {},
   "source": [
    "$$ \\pi \\pm \\Delta\\pi$$\n",
    "\n",
    "\n",
    "$$ \\frac{1}{\\pi} $$\n",
    "\n"
   ]
  },
  {
   "cell_type": "code",
   "execution_count": 16,
   "metadata": {
    "collapsed": true
   },
   "outputs": [],
   "source": [
    "p=1.5 #mas\n",
    "perror=0.45 #mas"
   ]
  },
  {
   "cell_type": "code",
   "execution_count": 17,
   "metadata": {},
   "outputs": [
    {
     "data": {
      "text/plain": [
       "666.6666666666666"
      ]
     },
     "execution_count": 17,
     "metadata": {},
     "output_type": "execute_result"
    }
   ],
   "source": [
    "1./p*1000"
   ]
  },
  {
   "cell_type": "code",
   "execution_count": 18,
   "metadata": {},
   "outputs": [
    {
     "data": {
      "text/plain": [
       "199.99999999999997"
      ]
     },
     "execution_count": 18,
     "metadata": {},
     "output_type": "execute_result"
    }
   ],
   "source": [
    "1/p**2*perror*1000"
   ]
  },
  {
   "cell_type": "code",
   "execution_count": 24,
   "metadata": {},
   "outputs": [],
   "source": [
    "ps=np.random.normal(p,perror,10000)"
   ]
  },
  {
   "cell_type": "code",
   "execution_count": 20,
   "metadata": {
    "collapsed": true
   },
   "outputs": [],
   "source": [
    "%matplotlib inline\n",
    "import matplotlib.pyplot as plt"
   ]
  },
  {
   "cell_type": "code",
   "execution_count": 25,
   "metadata": {},
   "outputs": [
    {
     "data": {
      "text/plain": [
       "(array([1.000e+00, 2.000e+00, 1.600e+01, 2.800e+01, 1.100e+02, 2.440e+02,\n",
       "        4.510e+02, 7.620e+02, 1.032e+03, 1.413e+03, 1.613e+03, 1.459e+03,\n",
       "        1.143e+03, 7.960e+02, 4.790e+02, 2.470e+02, 1.280e+02, 5.300e+01,\n",
       "        1.700e+01, 6.000e+00]),\n",
       " array([-0.32647903, -0.15353782,  0.0194034 ,  0.19234461,  0.36528582,\n",
       "         0.53822704,  0.71116825,  0.88410946,  1.05705068,  1.22999189,\n",
       "         1.4029331 ,  1.57587432,  1.74881553,  1.92175674,  2.09469796,\n",
       "         2.26763917,  2.44058038,  2.6135216 ,  2.78646281,  2.95940402,\n",
       "         3.13234524]),\n",
       " <a list of 20 Patch objects>)"
      ]
     },
     "execution_count": 25,
     "metadata": {},
     "output_type": "execute_result"
    },
    {
     "data": {
      "image/png": "[encoded data removed]",
      "text/plain": [
       "<Figure size 432x288 with 1 Axes>"
      ]
     },
     "metadata": {},
     "output_type": "display_data"
    }
   ],
   "source": [
    "plt.hist(ps,bins=20)"
   ]
  },
  {
   "cell_type": "code",
   "execution_count": 26,
   "metadata": {
    "collapsed": true
   },
   "outputs": [],
   "source": [
    "ds=1./ps*1000"
   ]
  },
  {
   "cell_type": "code",
   "execution_count": 30,
   "metadata": {},
   "outputs": [
    {
     "data": {
      "text/plain": [
       "(array([  0.,   0.,   0.,   0.,   0.,   0.,   0.,   0.,   0.,   0.,   0.,\n",
       "          4.,   8.,  26.,  53.,  97., 118., 187., 245., 282., 343., 394.,\n",
       "        402., 442., 450., 462., 455., 433., 383., 422., 395., 364., 308.,\n",
       "        315., 247., 266., 224., 192., 179., 148., 155., 142., 119., 111.,\n",
       "        133.,  94., 116.,  72.,  90.,  77.,  58.,  39.,  61.,  49.,  57.,\n",
       "         41.,  35.,  35.,  42.,  27.,  36.,  27.,  23.,  15.,  27.,  23.,\n",
       "         22.,  29.,  18.,  14.,  14.,  15.,  11.,  11.,  12.,  15.,   8.,\n",
       "         13.,  10.,  19.,   9.,   7.,   8.,   9.,   4.,   7.,   8.,   7.,\n",
       "          6.,   7.,   9.,   8.,   6.,   5.,   5.,   3.,   1.,   1.,   7.]),\n",
       " array([ 100.        ,  119.19191919,  138.38383838,  157.57575758,\n",
       "         176.76767677,  195.95959596,  215.15151515,  234.34343434,\n",
       "         253.53535354,  272.72727273,  291.91919192,  311.11111111,\n",
       "         330.3030303 ,  349.49494949,  368.68686869,  387.87878788,\n",
       "         407.07070707,  426.26262626,  445.45454545,  464.64646465,\n",
       "         483.83838384,  503.03030303,  522.22222222,  541.41414141,\n",
       "         560.60606061,  579.7979798 ,  598.98989899,  618.18181818,\n",
       "         637.37373737,  656.56565657,  675.75757576,  694.94949495,\n",
       "         714.14141414,  733.33333333,  752.52525253,  771.71717172,\n",
       "         790.90909091,  810.1010101 ,  829.29292929,  848.48484848,\n",
       "         867.67676768,  886.86868687,  906.06060606,  925.25252525,\n",
       "         944.44444444,  963.63636364,  982.82828283, 1002.02020202,\n",
       "        1021.21212121, 1040.4040404 , 1059.5959596 , 1078.78787879,\n",
       "        1097.97979798, 1117.17171717, 1136.36363636, 1155.55555556,\n",
       "        1174.74747475, 1193.93939394, 1213.13131313, 1232.32323232,\n",
       "        1251.51515152, 1270.70707071, 1289.8989899 , 1309.09090909,\n",
       "        1328.28282828, 1347.47474747, 1366.66666667, 1385.85858586,\n",
       "        1405.05050505, 1424.24242424, 1443.43434343, 1462.62626263,\n",
       "        1481.81818182, 1501.01010101, 1520.2020202 , 1539.39393939,\n",
       "        1558.58585859, 1577.77777778, 1596.96969697, 1616.16161616,\n",
       "        1635.35353535, 1654.54545455, 1673.73737374, 1692.92929293,\n",
       "        1712.12121212, 1731.31313131, 1750.50505051, 1769.6969697 ,\n",
       "        1788.88888889, 1808.08080808, 1827.27272727, 1846.46464646,\n",
       "        1865.65656566, 1884.84848485, 1904.04040404, 1923.23232323,\n",
       "        1942.42424242, 1961.61616162, 1980.80808081, 2000.        ]),\n",
       " <a list of 99 Patch objects>)"
      ]
     },
     "execution_count": 30,
     "metadata": {},
     "output_type": "execute_result"
    },
    {
     "data": {
      "image/png": "[encoded data removed]",
      "text/plain": [
       "<Figure size 432x288 with 1 Axes>"
      ]
     },
     "metadata": {},
     "output_type": "display_data"
    }
   ],
   "source": [
    "plt.hist(ds,np.linspace(100,2000,100))"
   ]
  },
  {
   "cell_type": "code",
   "execution_count": 14,
   "metadata": {},
   "outputs": [
    {
     "data": {
      "text/plain": [
       "697.4989400827947"
      ]
     },
     "execution_count": 14,
     "metadata": {},
     "output_type": "execute_result"
    }
   ],
   "source": [
    "np.mean(ds)"
   ]
  },
  {
   "cell_type": "code",
   "execution_count": 15,
   "metadata": {},
   "outputs": [
    {
     "data": {
      "text/plain": [
       "159.37439927097768"
      ]
     },
     "execution_count": 15,
     "metadata": {},
     "output_type": "execute_result"
    }
   ],
   "source": [
    "np.std(ds,ddof=1)"
   ]
  },
  {
   "cell_type": "code",
   "execution_count": null,
   "metadata": {
    "collapsed": true
   },
   "outputs": [],
   "source": []
  },
  {
   "cell_type": "code",
   "execution_count": null,
   "metadata": {
    "collapsed": true
   },
   "outputs": [],
   "source": [
    "#first, we assume a parallax measurement\n",
    "\n",
    "para=1.5 #mas\n",
    " \n",
    "para_error=0.15 #mas\n",
    "\n",
    "#what is the distances?\n",
    "print \"Is the distance (1/para): {:.0f} pc?\".format(1/para*1000)"
   ]
  },
  {
   "cell_type": "code",
   "execution_count": 11,
   "metadata": {
    "collapsed": true
   },
   "outputs": [],
   "source": [
    "#do this with Bayesian inference\n",
    "\n",
    "paras=np.random.normal(para,para_error,10000)"
   ]
  },
  {
   "cell_type": "code",
   "execution_count": 24,
   "metadata": {
    "collapsed": true
   },
   "outputs": [],
   "source": [
    "#draw paras\n",
    "%matplotlib inline\n",
    "import matplotlib.pyplot as plt"
   ]
  },
  {
   "cell_type": "code",
   "execution_count": 34,
   "metadata": {},
   "outputs": [
    {
     "data": {
      "text/plain": [
       "(array([1.000e+00, 4.000e+00, 7.000e+00, 1.100e+01, 5.800e+01, 1.540e+02,\n",
       "        3.600e+02, 6.830e+02, 9.980e+02, 1.381e+03, 1.557e+03, 1.561e+03,\n",
       "        1.247e+03, 9.060e+02, 5.300e+02, 3.140e+02, 1.630e+02, 4.700e+01,\n",
       "        1.600e+01, 2.000e+00]),\n",
       " array([0.85111871, 0.91099526, 0.97087181, 1.03074836, 1.09062492,\n",
       "        1.15050147, 1.21037802, 1.27025457, 1.33013112, 1.39000767,\n",
       "        1.44988423, 1.50976078, 1.56963733, 1.62951388, 1.68939043,\n",
       "        1.74926698, 1.80914354, 1.86902009, 1.92889664, 1.98877319,\n",
       "        2.04864974]),\n",
       " <a list of 20 Patch objects>)"
      ]
     },
     "execution_count": 34,
     "metadata": {},
     "output_type": "execute_result"
    },
    {
     "data": {
      "image/png": "[encoded data removed]",
      "text/plain": [
       "<Figure size 432x288 with 1 Axes>"
      ]
     },
     "metadata": {},
     "output_type": "display_data"
    }
   ],
   "source": [
    "#plt.plot(paras)\n",
    "plt.hist(paras,bins=20)"
   ]
  },
  {
   "cell_type": "code",
   "execution_count": 26,
   "metadata": {
    "collapsed": true
   },
   "outputs": [],
   "source": [
    "distances=1./paras*1000"
   ]
  },
  {
   "cell_type": "code",
   "execution_count": 36,
   "metadata": {},
   "outputs": [
    {
     "data": {
      "text/plain": [
       "(array([1.000e+01, 5.000e+01, 2.220e+02, 4.460e+02, 7.690e+02, 1.109e+03,\n",
       "        1.289e+03, 1.431e+03, 1.240e+03, 1.060e+03, 7.790e+02, 5.630e+02,\n",
       "        4.140e+02, 2.550e+02, 1.530e+02, 9.000e+01, 5.600e+01, 2.800e+01,\n",
       "        1.400e+01, 7.000e+00, 3.000e+00, 2.000e+00, 5.000e+00, 0.000e+00,\n",
       "        3.000e+00, 1.000e+00, 0.000e+00, 0.000e+00, 0.000e+00, 1.000e+00]),\n",
       " array([ 488.12638822,  511.01964991,  533.91291159,  556.80617328,\n",
       "         579.69943497,  602.59269665,  625.48595834,  648.37922002,\n",
       "         671.27248171,  694.1657434 ,  717.05900508,  739.95226677,\n",
       "         762.84552845,  785.73879014,  808.63205183,  831.52531351,\n",
       "         854.4185752 ,  877.31183689,  900.20509857,  923.09836026,\n",
       "         945.99162194,  968.88488363,  991.77814532, 1014.671407  ,\n",
       "        1037.56466869, 1060.45793037, 1083.35119206, 1106.24445375,\n",
       "        1129.13771543, 1152.03097712, 1174.9242388 ]),\n",
       " <a list of 30 Patch objects>)"
      ]
     },
     "execution_count": 36,
     "metadata": {},
     "output_type": "execute_result"
    },
    {
     "data": {
      "image/png": "[encoded data removed]",
      "text/plain": [
       "<Figure size 432x288 with 1 Axes>"
      ]
     },
     "metadata": {},
     "output_type": "display_data"
    }
   ],
   "source": [
    "#plt.plot(distances)\n",
    "plt.hist(distances,bins=30)"
   ]
  },
  {
   "cell_type": "code",
   "execution_count": 30,
   "metadata": {},
   "outputs": [
    {
     "name": "stdout",
     "output_type": "stream",
     "text": [
      "distance, error: 672.5261460628528 69.28603472068407\n"
     ]
    }
   ],
   "source": [
    "print \"distance, error:\" ,np.mean(distances),np.std(distances,ddof=1)"
   ]
  },
  {
   "cell_type": "code",
   "execution_count": 41,
   "metadata": {},
   "outputs": [
    {
     "data": {
      "text/plain": [
       "(array([2.800e+01, 2.810e+02, 9.570e+02, 1.707e+03, 1.800e+03, 1.618e+03,\n",
       "        1.243e+03, 8.490e+02, 5.240e+02, 3.580e+02, 2.200e+02, 1.410e+02,\n",
       "        7.900e+01, 5.000e+01, 4.200e+01, 2.800e+01, 1.700e+01, 1.700e+01,\n",
       "        1.000e+01, 5.000e+00, 1.000e+01, 4.000e+00, 4.000e+00, 2.000e+00,\n",
       "        2.000e+00, 1.000e+00, 1.000e+00, 0.000e+00, 0.000e+00, 1.000e+00,\n",
       "        0.000e+00, 0.000e+00, 0.000e+00, 0.000e+00, 0.000e+00, 0.000e+00,\n",
       "        0.000e+00, 0.000e+00, 0.000e+00, 1.000e+00]),\n",
       " array([ 372.24020583,  429.55840692,  486.87660801,  544.1948091 ,\n",
       "         601.51301018,  658.83121127,  716.14941236,  773.46761345,\n",
       "         830.78581454,  888.10401563,  945.42221671, 1002.7404178 ,\n",
       "        1060.05861889, 1117.37681998, 1174.69502107, 1232.01322216,\n",
       "        1289.33142325, 1346.64962433, 1403.96782542, 1461.28602651,\n",
       "        1518.6042276 , 1575.92242869, 1633.24062978, 1690.55883087,\n",
       "        1747.87703195, 1805.19523304, 1862.51343413, 1919.83163522,\n",
       "        1977.14983631, 2034.4680374 , 2091.78623848, 2149.10443957,\n",
       "        2206.42264066, 2263.74084175, 2321.05904284, 2378.37724393,\n",
       "        2435.69544502, 2493.0136461 , 2550.33184719, 2607.65004828,\n",
       "        2664.96824937]),\n",
       " <a list of 40 Patch objects>)"
      ]
     },
     "execution_count": 41,
     "metadata": {},
     "output_type": "execute_result"
    },
    {
     "data": {
      "image/png": "[encoded data removed]",
      "text/plain": [
       "<Figure size 432x288 with 1 Axes>"
      ]
     },
     "metadata": {},
     "output_type": "display_data"
    }
   ],
   "source": [
    "#use larger distance errors\n",
    "para=1.5 #mas\n",
    " \n",
    "para_error=0.3 #mas\n",
    "np.random.seed()\n",
    "paras=np.random.normal(para,para_error,10000)\n",
    "distances=1./paras*1000\n",
    "plt.hist(distances,bins=40)"
   ]
  },
  {
   "cell_type": "code",
   "execution_count": null,
   "metadata": {
    "collapsed": true
   },
   "outputs": [],
   "source": []
  }
 ],
 "metadata": {
  "kernelspec": {
   "display_name": "Python 2",
   "language": "python",
   "name": "python2"
  },
  "language_info": {
   "codemirror_mode": {
    "name": "ipython",
    "version": 2
   },
   "file_extension": ".py",
   "mimetype": "text/x-python",
   "name": "python",
   "nbconvert_exporter": "python",
   "pygments_lexer": "ipython2",
   "version": "2.7.14"
  }
 },
 "nbformat": 4,
 "nbformat_minor": 2
}
