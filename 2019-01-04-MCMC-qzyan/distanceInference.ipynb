{
 "cells": [
  {
   "cell_type": "markdown",
   "metadata": {},
   "source": [
    "This notebook shows the inference of distances with parallaxes"
   ]
  },
  {
   "cell_type": "code",
   "execution_count": 5,
   "metadata": {},
   "outputs": [
    {
     "name": "stdout",
     "output_type": "stream",
     "text": [
      "Is the distance (1/para): 667 pc?\n"
     ]
    }
   ],
   "source": [
    "#first, we assume a parallax measurement\n",
    "\n",
    "para=1.5 #mas\n",
    " \n",
    "para_error=0.15 #mas\n",
    "\n",
    "#what is the distances?\n",
    "print \"Is the distance (1/para): {:.0f} pc?\".format(1/para*1000)"
   ]
  },
  {
   "cell_type": "code",
   "execution_count": 11,
   "metadata": {},
   "outputs": [],
   "source": [
    "#do this with Bayesian inference\n",
    "\n",
    "paras=np.random.normal(para,para_error,10000)"
   ]
  },
  {
   "cell_type": "code",
   "execution_count": 24,
   "metadata": {},
   "outputs": [],
   "source": [
    "#draw paras\n",
    "%matplotlib inline\n",
    "import matplotlib.pyplot as plt"
   ]
  },
  {
   "cell_type": "code",
   "execution_count": 34,
   "metadata": {},
   "outputs": [
    {
     "data": {
      "text/plain": [
       "(array([1.000e+00, 4.000e+00, 7.000e+00, 1.100e+01, 5.800e+01, 1.540e+02,\n",
       "        3.600e+02, 6.830e+02, 9.980e+02, 1.381e+03, 1.557e+03, 1.561e+03,\n",
       "        1.247e+03, 9.060e+02, 5.300e+02, 3.140e+02, 1.630e+02, 4.700e+01,\n",
       "        1.600e+01, 2.000e+00]),\n",
       " array([0.85111871, 0.91099526, 0.97087181, 1.03074836, 1.09062492,\n",
       "        1.15050147, 1.21037802, 1.27025457, 1.33013112, 1.39000767,\n",
       "        1.44988423, 1.50976078, 1.56963733, 1.62951388, 1.68939043,\n",
       "        1.74926698, 1.80914354, 1.86902009, 1.92889664, 1.98877319,\n",
       "        2.04864974]),\n",
       " <a list of 20 Patch objects>)"
      ]
     },
     "execution_count": 34,
     "metadata": {},
     "output_type": "execute_result"
    },
    {
     "data": {
      "image/png": "[encoded data removed]",
      "text/plain": [
       "<Figure size 432x288 with 1 Axes>"
      ]
     },
     "metadata": {},
     "output_type": "display_data"
    }
   ],
   "source": [
    "#plt.plot(paras)\n",
    "plt.hist(paras,bins=20)"
   ]
  },
  {
   "cell_type": "code",
   "execution_count": 26,
   "metadata": {
    "collapsed": true
   },
   "outputs": [],
   "source": [
    "distances=1./paras*1000"
   ]
  },
  {
   "cell_type": "code",
   "execution_count": 36,
   "metadata": {},
   "outputs": [
    {
     "data": {
      "text/plain": [
       "(array([1.000e+01, 5.000e+01, 2.220e+02, 4.460e+02, 7.690e+02, 1.109e+03,\n",
       "        1.289e+03, 1.431e+03, 1.240e+03, 1.060e+03, 7.790e+02, 5.630e+02,\n",
       "        4.140e+02, 2.550e+02, 1.530e+02, 9.000e+01, 5.600e+01, 2.800e+01,\n",
       "        1.400e+01, 7.000e+00, 3.000e+00, 2.000e+00, 5.000e+00, 0.000e+00,\n",
       "        3.000e+00, 1.000e+00, 0.000e+00, 0.000e+00, 0.000e+00, 1.000e+00]),\n",
       " array([ 488.12638822,  511.01964991,  533.91291159,  556.80617328,\n",
       "         579.69943497,  602.59269665,  625.48595834,  648.37922002,\n",
       "         671.27248171,  694.1657434 ,  717.05900508,  739.95226677,\n",
       "         762.84552845,  785.73879014,  808.63205183,  831.52531351,\n",
       "         854.4185752 ,  877.31183689,  900.20509857,  923.09836026,\n",
       "         945.99162194,  968.88488363,  991.77814532, 1014.671407  ,\n",
       "        1037.56466869, 1060.45793037, 1083.35119206, 1106.24445375,\n",
       "        1129.13771543, 1152.03097712, 1174.9242388 ]),\n",
       " <a list of 30 Patch objects>)"
      ]
     },
     "execution_count": 36,
     "metadata": {},
     "output_type": "execute_result"
    },
    {
     "data": {
      "image/png": "[encoded data removed]",
      "text/plain": [
       "<Figure size 432x288 with 1 Axes>"
      ]
     },
     "metadata": {},
     "output_type": "display_data"
    }
   ],
   "source": [
    "#plt.plot(distances)\n",
    "plt.hist(distances,bins=30)"
   ]
  },
  {
   "cell_type": "code",
   "execution_count": 30,
   "metadata": {},
   "outputs": [
    {
     "name": "stdout",
     "output_type": "stream",
     "text": [
      "distance, error: 672.5261460628528 69.28603472068407\n"
     ]
    }
   ],
   "source": [
    "print \"distance, error:\" ,np.mean(distances),np.std(distances,ddof=1)"
   ]
  },
  {
   "cell_type": "code",
   "execution_count": 41,
   "metadata": {},
   "outputs": [
    {
     "data": {
      "text/plain": [
       "(array([2.800e+01, 2.810e+02, 9.570e+02, 1.707e+03, 1.800e+03, 1.618e+03,\n",
       "        1.243e+03, 8.490e+02, 5.240e+02, 3.580e+02, 2.200e+02, 1.410e+02,\n",
       "        7.900e+01, 5.000e+01, 4.200e+01, 2.800e+01, 1.700e+01, 1.700e+01,\n",
       "        1.000e+01, 5.000e+00, 1.000e+01, 4.000e+00, 4.000e+00, 2.000e+00,\n",
       "        2.000e+00, 1.000e+00, 1.000e+00, 0.000e+00, 0.000e+00, 1.000e+00,\n",
       "        0.000e+00, 0.000e+00, 0.000e+00, 0.000e+00, 0.000e+00, 0.000e+00,\n",
       "        0.000e+00, 0.000e+00, 0.000e+00, 1.000e+00]),\n",
       " array([ 372.24020583,  429.55840692,  486.87660801,  544.1948091 ,\n",
       "         601.51301018,  658.83121127,  716.14941236,  773.46761345,\n",
       "         830.78581454,  888.10401563,  945.42221671, 1002.7404178 ,\n",
       "        1060.05861889, 1117.37681998, 1174.69502107, 1232.01322216,\n",
       "        1289.33142325, 1346.64962433, 1403.96782542, 1461.28602651,\n",
       "        1518.6042276 , 1575.92242869, 1633.24062978, 1690.55883087,\n",
       "        1747.87703195, 1805.19523304, 1862.51343413, 1919.83163522,\n",
       "        1977.14983631, 2034.4680374 , 2091.78623848, 2149.10443957,\n",
       "        2206.42264066, 2263.74084175, 2321.05904284, 2378.37724393,\n",
       "        2435.69544502, 2493.0136461 , 2550.33184719, 2607.65004828,\n",
       "        2664.96824937]),\n",
       " <a list of 40 Patch objects>)"
      ]
     },
     "execution_count": 41,
     "metadata": {},
     "output_type": "execute_result"
    },
    {
     "data": {
      "image/png": "[encoded data removed]",
      "text/plain": [
       "<Figure size 432x288 with 1 Axes>"
      ]
     },
     "metadata": {},
     "output_type": "display_data"
    }
   ],
   "source": [
    "#use larger distance errors\n",
    "para=1.5 #mas\n",
    " \n",
    "para_error=0.3 #mas\n",
    "np.random.seed()\n",
    "paras=np.random.normal(para,para_error,10000)\n",
    "distances=1./paras*1000\n",
    "plt.hist(distances,bins=40)"
   ]
  },
  {
   "cell_type": "code",
   "execution_count": null,
   "metadata": {
    "collapsed": true
   },
   "outputs": [],
   "source": []
  }
 ],
 "metadata": {
  "kernelspec": {
   "display_name": "Python 2",
   "language": "python",
   "name": "python2"
  },
  "language_info": {
   "codemirror_mode": {
    "name": "ipython",
    "version": 2
   },
   "file_extension": ".py",
   "mimetype": "text/x-python",
   "name": "python",
   "nbconvert_exporter": "python",
   "pygments_lexer": "ipython2",
   "version": "2.7.14"
  }
 },
 "nbformat": 4,
 "nbformat_minor": 2
}
