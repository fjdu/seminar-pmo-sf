{
 "cells": [
  {
   "cell_type": "markdown",
   "metadata": {},
   "source": [
    "This notebook show the procedure of fitting a gaussian distribution with MCMC.\n",
    "\n",
    "Given the mean $\\mu$ and std $\\sigma$, the likelihood of observing $x$ is \n",
    "\n",
    "$$ P\\left(x|\\mu,\\sigma \\right)= \\frac{1}{\\sqrt{2\\pi}\\sigma} \\exp\\left( -\\frac{\\left(x-\\mu\\right)^2}{2\\sigma^2} \\right)$$\n",
    "\n",
    "\n",
    "If you have many $x$s, simply multiply them. In practice, better use log form. The log of likelihood is \n",
    "\n",
    "$$ \\log P\\left(x|\\mu,\\sigma \\right)= -0.5*\\log\\left(2\\pi\\right)-\\log\\left(\\sigma\\right)  -\\frac{\\left(x-\\mu\\right)^2}{2\\sigma^2}  $$"
   ]
  },
  {
   "cell_type": "code",
   "execution_count": 4,
   "metadata": {},
   "outputs": [],
   "source": [
    "#simulate gaussian data\n",
    "np.random.seed()\n",
    "\n",
    "mu_sim=20,\n",
    "std_sim=5,\n",
    "####### \n",
    "simData=np.random.normal(mu_sim,std_sim,2000)"
   ]
  },
  {
   "cell_type": "code",
   "execution_count": 33,
   "metadata": {},
   "outputs": [],
   "source": [
    "#assmuing we do not inow mu_sim and std_sim.\n",
    "\n",
    "def getlogp(data,mu,istd):\n",
    "    logp=-0.5*np.log(2*np.pi)+0.5*np.log(istd**2)-(data-mu)**2/2.*istd**2\n",
    "    \n",
    "    return np.sum(logp)\n"
   ]
  },
  {
   "cell_type": "code",
   "execution_count": 12,
   "metadata": {},
   "outputs": [
    {
     "data": {
      "text/plain": [
       "-17352945.279923722"
      ]
     },
     "execution_count": 12,
     "metadata": {},
     "output_type": "execute_result"
    }
   ],
   "source": [
    "getlogp(simData,1,3)"
   ]
  },
  {
   "cell_type": "code",
   "execution_count": 66,
   "metadata": {},
   "outputs": [
    {
     "name": "stdout",
     "output_type": "stream",
     "text": [
      "-0.930066879696 68.4468423769\n",
      "1.00039671555 12.0288296518\n",
      "-0.555796431884 15.3958917191\n",
      "-0.467387359059 23.5615438636\n",
      "0.562778374766 18.2917526224\n",
      "2.57335928676 14.3193904577\n",
      "3.71186305771 21.6972729706\n",
      "5.43357939827 12.6462581464\n",
      "6.38134487803 13.8492029222\n",
      "9.99471048482 14.623008312\n",
      "10.1314075182 14.4817687205\n",
      "13.0728910335 10.619948138\n",
      "16.9160576304 11.8299003101\n",
      "18.7272930353 5.1514645195\n",
      "20.0662695629 5.87329543785\n",
      "20.6616246627 4.8114550269\n",
      "19.8263457867 4.66434473544\n",
      "20.2827629714 4.88167798364\n",
      "20.0137379833 5.19349399947\n",
      "20.0453358224 5.03963044861\n",
      "20.0610174683 4.98594617257\n",
      "20.0107018101 4.92494463677\n",
      "20.0045682439 4.98673667713\n",
      "19.9788576467 5.01743477809\n",
      "20.0438675834 5.00619559514\n",
      "19.9768257792 4.9889383386\n",
      "20.0405810083 4.95405581471\n",
      "20.007397 4.99292735743\n",
      "20.1072167189 4.97276981327\n",
      "20.0474293408 4.91048845062\n",
      "19.9963915928 5.06821398041\n",
      "20.0669462396 4.92448211725\n",
      "19.9474971141 4.96469272861\n",
      "19.9673057611 5.00196374131\n",
      "19.9410728353 4.97393754679\n",
      "19.9978252858 4.93222097459\n",
      "20.0433506118 4.94744244132\n",
      "19.9847993102 4.94073895697\n",
      "20.0414647204 4.93264853534\n",
      "20.0007420488 4.92054866475\n",
      "20.023153271 4.98702710601\n",
      "20.058433325 4.98313197336\n",
      "19.9923801748 5.04197832389\n",
      "19.9578745872 5.03566947457\n",
      "20.0614204184 4.90747869464\n",
      "20.0604206079 5.0225220635\n",
      "19.9262527713 4.9215153808\n",
      "20.0742627451 4.96270052831\n",
      "19.9943274898 5.00208086067\n",
      "19.999021435 4.99467506327\n",
      "19.9550801932 4.99455873244\n",
      "20.011663796 4.94740434564\n",
      "20.0463650816 4.94017282032\n",
      "20.0806806948 4.95098458095\n",
      "19.9565198292 5.01164532254\n",
      "20.0740263737 5.00188708868\n",
      "20.0794872931 4.99646085547\n",
      "19.9559522088 4.99892426248\n",
      "20.0325619254 4.92031718567\n",
      "20.0019506579 4.98319764129\n",
      "20.0479823945 4.99302770266\n",
      "20.0486680378 4.97665883291\n",
      "20.007967114 4.96493243026\n",
      "20.0390003914 5.00237312133\n",
      "20.0489242737 4.94273594266\n",
      "19.983437746 4.91970415724\n",
      "19.944516723 4.95564188452\n",
      "20.0050821763 4.94809760432\n",
      "20.0057821468 4.94050124007\n",
      "19.9904909433 4.93196201871\n",
      "19.9622919204 4.95109925703\n",
      "20.0740904096 4.93380859793\n",
      "20.0198033071 4.93029416713\n",
      "20.0727570655 5.00301897862\n",
      "19.8994445273 5.00623395143\n",
      "20.1049726515 4.95221837306\n",
      "20.024191171 4.92806767545\n",
      "19.9517680013 4.97964518756\n",
      "19.993802443 4.90884747121\n",
      "19.9606498269 4.95721386619\n",
      "19.9236030499 5.01065524725\n",
      "20.0590643717 4.90687392259\n",
      "19.9257256249 4.95877857164\n",
      "19.9798371114 4.99791448386\n",
      "19.9760936936 4.98685259826\n",
      "20.0896503606 4.96353392188\n",
      "20.0032698624 5.02196627014\n",
      "19.9236901554 4.98675755764\n",
      "19.9341797211 4.96286478531\n",
      "19.9717404683 4.94895066854\n",
      "91\n",
      "Done\n"
     ]
    }
   ],
   "source": [
    "#the MCMC part\n",
    "\n",
    "mu0=np.random.exponential(2)\n",
    "istd0=np.random.exponential(1)\n",
    "\n",
    "P0=getlogp(simData,mu0,istd0)\n",
    "\n",
    "muList= [mu0]\n",
    "istdList=[ istd0]\n",
    "\n",
    " \n",
    " \n",
    "for i in range(100000):\n",
    "    muCand=muList[-1]+np.random.normal(0,2)\n",
    "\n",
    "    istdCand=istdList[-1]+np.random.normal(0,1)\n",
    "    \n",
    "    if istdCand<0: #we only want positive values\n",
    "        continue\n",
    "    \n",
    "    P1=getlogp(simData,muCand,istdCand)\n",
    "    \n",
    "    u=np.random.uniform(0,1)\n",
    "\n",
    "    if P1>P0 or P1-P0>np.log(u):\n",
    "        #accept\n",
    "        P0=P1\n",
    "        print muCand,1./istdCand\n",
    "        muList.append(muCand)\n",
    "        istdList.append(istdCand)\n",
    "    else:\n",
    "        #jrect\n",
    "        continue\n",
    "        muList.append(muList[-1])\n",
    "        istdList.append(istdList[-1])\n",
    "burn_in=100\n",
    "goodMu=np.array(muList[burn_in:])\n",
    "istdList=1./np.array(istdList[burn_in:])\n",
    "\n",
    "print len(muList)\n",
    "print \"Done\""
   ]
  },
  {
   "cell_type": "code",
   "execution_count": 37,
   "metadata": {
    "collapsed": true
   },
   "outputs": [],
   "source": [
    "%matplotlib inline\n",
    "import matplotlib.pyplot as plt"
   ]
  },
  {
   "cell_type": "code",
   "execution_count": 67,
   "metadata": {},
   "outputs": [
    {
     "data": {
      "text/plain": [
       "(array([0., 0., 0., 0., 0., 0., 0., 0., 0., 0.]),\n",
       " array([0. , 0.1, 0.2, 0.3, 0.4, 0.5, 0.6, 0.7, 0.8, 0.9, 1. ]),\n",
       " <a list of 10 Patch objects>)"
      ]
     },
     "execution_count": 67,
     "metadata": {},
     "output_type": "execute_result"
    },
    {
     "data": {
      "image/png": "[encoded data removed]",
      "text/plain": [
       "<Figure size 432x288 with 1 Axes>"
      ]
     },
     "metadata": {},
     "output_type": "display_data"
    }
   ],
   "source": [
    "plt.hist(goodMu)"
   ]
  },
  {
   "cell_type": "code",
   "execution_count": null,
   "metadata": {
    "collapsed": true
   },
   "outputs": [],
   "source": []
  }
 ],
 "metadata": {
  "kernelspec": {
   "display_name": "Python 2",
   "language": "python",
   "name": "python2"
  },
  "language_info": {
   "codemirror_mode": {
    "name": "ipython",
    "version": 2
   },
   "file_extension": ".py",
   "mimetype": "text/x-python",
   "name": "python",
   "nbconvert_exporter": "python",
   "pygments_lexer": "ipython2",
   "version": "2.7.14"
  }
 },
 "nbformat": 4,
 "nbformat_minor": 2
}
