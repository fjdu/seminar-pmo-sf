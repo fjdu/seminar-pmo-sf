{
 "cells": [
  {
   "cell_type": "markdown",
   "metadata": {},
   "source": [
    "This notebook show the procedure of fitting a gaussian distribution with MCMC.\n",
    "\n",
    "Given the mean $\\mu$ and std $\\sigma$, the likelihood of observing $x$ is \n",
    "\n",
    "$$ P\\left(x|\\mu,\\sigma \\right)= \\frac{1}{\\sqrt{2\\pi}\\sigma} \\exp\\left( -\\frac{\\left(x-\\mu\\right)^2}{2\\sigma^2} \\right)$$\n",
    "\n",
    "\n",
    "If you have many $x$s, simply multiply them. In practice, better use log form. The log of likelihood is \n",
    "\n",
    "$$ \\log P\\left(x|\\mu,\\sigma \\right)= -0.5*\\log\\left(2\\pi\\right)-\\log\\left(\\sigma\\right)  -\\frac{\\left(x-\\mu\\right)^2}{2\\sigma^2}  $$"
   ]
  },
  {
   "cell_type": "code",
   "execution_count": 68,
   "metadata": {
    "collapsed": true
   },
   "outputs": [],
   "source": [
    "#simulate gaussian data\n",
    "np.random.seed()\n",
    "\n",
    "mu_sim=20,\n",
    "std_sim=5,\n",
    "####### \n",
    "simData=np.random.normal(mu_sim,std_sim,2000)"
   ]
  },
  {
   "cell_type": "code",
   "execution_count": 69,
   "metadata": {
    "collapsed": true
   },
   "outputs": [],
   "source": [
    "#assmuing we do not inow mu_sim and std_sim.\n",
    "\n",
    "def getlogp(data,mu,istd):\n",
    "    logp=-0.5*np.log(2*np.pi)+0.5*np.log(istd**2)-(data-mu)**2/2.*istd**2\n",
    "    \n",
    "    return np.sum(logp)\n"
   ]
  },
  {
   "cell_type": "code",
   "execution_count": 70,
   "metadata": {},
   "outputs": [
    {
     "data": {
      "text/plain": [
       "-3464322.0730174733"
      ]
     },
     "execution_count": 70,
     "metadata": {},
     "output_type": "execute_result"
    }
   ],
   "source": [
    "getlogp(simData,1,3)"
   ]
  },
  {
   "cell_type": "code",
   "execution_count": 88,
   "metadata": {},
   "outputs": [
    {
     "name": "stdout",
     "output_type": "stream",
     "text": [
      "-2.07465281182 13.166454101 1\n",
      "-2.27186564125 37.88640401 43\n",
      "-5.42153241429 23.5530951117 110\n",
      "-4.60153562785 26.9780286976 296\n",
      "1.70867283777 26.8554359413 305\n",
      "4.70617556402 11.7853155079 584\n",
      "8.92086935698 15.0984465305 586\n",
      "9.52686896189 11.8161184272 621\n",
      "13.6898060446 7.92796590852 628\n",
      "17.7197075207 5.14361684355 668\n",
      "20.3799586514 3.97809447354 674\n",
      "19.2276232345 4.23616856891 678\n",
      "19.934162394 5.57317752583 715\n",
      "20.5579181205 5.04843441645 718\n",
      "20.5043061437 4.86164375398 1251\n",
      "20.0561016776 4.91584104547 1832\n",
      "19.958435821 4.78924078897 4057\n",
      "19.9982198007 5.0646055232 5773\n",
      "19.8655959781 4.93920488481 6893\n",
      "19.9169668592 5.03624306145 16743\n",
      "19.836501451 4.91575287048 16961\n",
      "19.9882708773 4.87670784257 17460\n",
      "20.0714025944 4.94184544612 19018\n",
      "11549\n",
      "Done\n"
     ]
    }
   ],
   "source": [
    "#the MCMC part\n",
    "\n",
    "mu0=np.random.exponential(2)\n",
    "istd0=np.random.exponential(1)\n",
    "\n",
    "P0=getlogp(simData,mu0,istd0)\n",
    "\n",
    "muList= [mu0]\n",
    "istdList=[ istd0]\n",
    "\n",
    " \n",
    "for i in range(20000):\n",
    "    muCand=muList[-1]+np.random.normal(0,3)\n",
    "\n",
    "    istdCand=istdList[-1]+np.random.normal(0,1)\n",
    "    \n",
    "    if istdCand<0: #we only want positive values\n",
    "        continue\n",
    "    \n",
    "    P1=getlogp(simData,muCand,istdCand)\n",
    "    \n",
    "    u=np.random.uniform(0,1)\n",
    "\n",
    "    if P1>P0 or P1-P0>np.log(u):\n",
    "        #accept\n",
    "        P0=P1\n",
    "        print muCand,1./istdCand,i\n",
    "        muList.append(muCand)\n",
    "        istdList.append(istdCand)\n",
    "    else:\n",
    "        #rect\n",
    "        #continue\n",
    "        muList.append(muList[-1])\n",
    "        istdList.append(istdList[-1])\n",
    "burn_in=1000\n",
    "goodMu=np.array(muList[burn_in:])\n",
    "istdList=1./np.array(istdList[burn_in:])\n",
    "\n",
    "print len(muList)\n",
    "print \"Done\""
   ]
  },
  {
   "cell_type": "code",
   "execution_count": 72,
   "metadata": {
    "collapsed": true
   },
   "outputs": [],
   "source": [
    "%matplotlib inline\n",
    "import matplotlib.pyplot as plt"
   ]
  },
  {
   "cell_type": "code",
   "execution_count": 90,
   "metadata": {},
   "outputs": [
    {
     "data": {
      "text/plain": [
       "(array([ 995.,    0.,   44.,  887., 1567., 6280.,    0.,    0.,  128.,\n",
       "         648.]),\n",
       " array([4.78924079, 4.81677726, 4.84431374, 4.87185021, 4.89938668,\n",
       "        4.92692316, 4.95445963, 4.9819961 , 5.00953258, 5.03706905,\n",
       "        5.06460552]),\n",
       " <a list of 10 Patch objects>)"
      ]
     },
     "execution_count": 90,
     "metadata": {},
     "output_type": "execute_result"
    },
    {
     "data": {
      "image/png": "[encoded data removed]",
      "text/plain": [
       "<Figure size 432x288 with 1 Axes>"
      ]
     },
     "metadata": {},
     "output_type": "display_data"
    }
   ],
   "source": [
    "plt.hist(istdList)"
   ]
  },
  {
   "cell_type": "code",
   "execution_count": null,
   "metadata": {
    "collapsed": true
   },
   "outputs": [],
   "source": []
  }
 ],
 "metadata": {
  "kernelspec": {
   "display_name": "Python 2",
   "language": "python",
   "name": "python2"
  },
  "language_info": {
   "codemirror_mode": {
    "name": "ipython",
    "version": 2
   },
   "file_extension": ".py",
   "mimetype": "text/x-python",
   "name": "python",
   "nbconvert_exporter": "python",
   "pygments_lexer": "ipython2",
   "version": "2.7.14"
  }
 },
 "nbformat": 4,
 "nbformat_minor": 2
}
