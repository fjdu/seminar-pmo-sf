{
 "cells": [
  {
   "cell_type": "markdown",
   "metadata": {},
   "source": [
    "This notebook show the procedure of fitting a gaussian distribution with MCMC.\n",
    "\n",
    "Given the mean $\\mu$ and std $\\sigma$, the likelihood of observing $x$ is \n",
    "\n",
    "$$ P\\left(x|\\mu,\\sigma \\right)= \\frac{1}{\\sqrt{2\\pi}\\sigma} \\exp\\left( -\\frac{\\left(x-\\mu\\right)^2}{2\\sigma^2} \\right)$$\n",
    "\n",
    "\n",
    "If you have many $x$s, simply multiply them. In practice, better use log form. The log of likelihood is \n",
    "\n",
    "$$ \\log P\\left(x|\\mu,\\sigma \\right)= -0.5*\\log\\left(2\\pi\\right)-\\log\\left(\\sigma\\right)  -\\frac{\\left(x-\\mu\\right)^2}{2\\sigma^2}  $$\n",
    "\n",
    "$$ \\log P\\left(x|\\mu,\\sigma \\right)= -0.5*\\log\\left(2\\pi\\right)+\\log\\left(i\\sigma\\right)  -\\frac{\\left(x-\\mu\\right)^2}{2}i\\sigma^2  $$\n"
   ]
  },
  {
   "cell_type": "code",
   "execution_count": 2,
   "metadata": {
    "collapsed": true
   },
   "outputs": [],
   "source": [
    "mu=19\n",
    "isigma=5"
   ]
  },
  {
   "cell_type": "code",
   "execution_count": 33,
   "metadata": {
    "collapsed": true
   },
   "outputs": [],
   "source": [
    "dataList=np.random.normal(mu,1./isigma,20)"
   ]
  },
  {
   "cell_type": "code",
   "execution_count": 34,
   "metadata": {},
   "outputs": [
    {
     "data": {
      "text/plain": [
       "array([18.95146209, 18.97602072, 18.90192622, 18.89504345, 19.0079191 ,\n",
       "       19.06738845, 19.33114954, 18.76078305, 19.40113022, 18.80580225,\n",
       "       18.72431966, 18.88020395, 19.09426091, 19.1333501 , 19.20722009,\n",
       "       19.13907951, 19.19026397, 18.89746437, 18.96695321, 18.82437917])"
      ]
     },
     "execution_count": 34,
     "metadata": {},
     "output_type": "execute_result"
    }
   ],
   "source": [
    "dataList"
   ]
  },
  {
   "cell_type": "code",
   "execution_count": 35,
   "metadata": {},
   "outputs": [
    {
     "name": "stdout",
     "output_type": "stream",
     "text": [
      "done\n"
     ]
    }
   ],
   "source": [
    "mu0=1; #np.random.exponential(1)\n",
    "isigma0=1; #np.random.exponential(1)\n",
    "\n",
    "P0= np.sum( np.log(isigma0)-(dataList-mu0)**2/2.*isigma0**2  ) #log form \n",
    "\n",
    "\n",
    "muList=[mu0]\n",
    "isigmaList=[isigma0]\n",
    "\n",
    "\n",
    "for i in range(20000):\n",
    "    muCand=muList[-1]+np.random.normal(0,2)\n",
    "    isigmaCand=isigmaList[-1]+np.random.normal(0,1)\n",
    "    \n",
    "    if isigmaCand<0:\n",
    "        continue\n",
    "    \n",
    "    P1= np.sum( np.log(isigmaCand)-(dataList-muCand)**2/2.*isigmaCand**2  ) #log form \n",
    "\n",
    "    \n",
    "    u=np.random.uniform(0,1)\n",
    "    #P1<P0\n",
    "    #P1/P0\n",
    "    #e(P1)/e(P0)>u\n",
    "    if  P1>P0 or P1-P0 >np.log(u) :\n",
    "        \n",
    "        muList.append(muCand)\n",
    "        isigmaList.append(isigmaCand)\n",
    "        P0=P1\n",
    "    else:\n",
    "        ##\n",
    "        muList.append(muList[-1])\n",
    "        isigmaList.append(isigmaList[-1])\n",
    "\n",
    "        \n",
    "print \"done\"\n"
   ]
  },
  {
   "cell_type": "code",
   "execution_count": 36,
   "metadata": {},
   "outputs": [
    {
     "data": {
      "text/plain": [
       "19794"
      ]
     },
     "execution_count": 36,
     "metadata": {},
     "output_type": "execute_result"
    }
   ],
   "source": [
    "len(muList)"
   ]
  },
  {
   "cell_type": "code",
   "execution_count": 53,
   "metadata": {},
   "outputs": [
    {
     "name": "stdout",
     "output_type": "stream",
     "text": [
      "19.006688843709956\n",
      "0.05564152348721407\n",
      "0.06155145787920091\n"
     ]
    }
   ],
   "source": [
    "\n",
    "#muList[2000:]\n",
    "import pymc3 as pm\n",
    "\n",
    "low,up= pm.stats.hpd(np.array(muList[2000:]),alpha=0.1) #90% HPD\n",
    "\n",
    "mean= np.mean(muList[2000:])\n",
    "print mean\n",
    "print mean-low\n",
    "\n",
    "print up-mean\n",
    " \n",
    "\n"
   ]
  },
  {
   "cell_type": "code",
   "execution_count": 24,
   "metadata": {
    "collapsed": true
   },
   "outputs": [],
   "source": [
    "%matplotlib inline\n",
    "import matplotlib.pyplot as plt"
   ]
  },
  {
   "cell_type": "code",
   "execution_count": 42,
   "metadata": {},
   "outputs": [
    {
     "data": {
      "text/plain": [
       "(array([[0., 0., 0., ..., 0., 0., 0.],\n",
       "        [0., 0., 0., ..., 0., 0., 0.],\n",
       "        [0., 0., 0., ..., 0., 0., 0.],\n",
       "        ...,\n",
       "        [0., 0., 0., ..., 0., 0., 0.],\n",
       "        [0., 0., 0., ..., 0., 0., 0.],\n",
       "        [0., 0., 0., ..., 0., 0., 0.]]),\n",
       " array([18.88553157, 18.89042392, 18.89531627, 18.90020862, 18.90510098,\n",
       "        18.90999333, 18.91488568, 18.91977803, 18.92467039, 18.92956274,\n",
       "        18.93445509, 18.93934744, 18.9442398 , 18.94913215, 18.9540245 ,\n",
       "        18.95891685, 18.96380921, 18.96870156, 18.97359391, 18.97848626,\n",
       "        18.98337862, 18.98827097, 18.99316332, 18.99805567, 19.00294802,\n",
       "        19.00784038, 19.01273273, 19.01762508, 19.02251743, 19.02740979,\n",
       "        19.03230214, 19.03719449, 19.04208684, 19.0469792 , 19.05187155,\n",
       "        19.0567639 , 19.06165625, 19.06654861, 19.07144096, 19.07633331,\n",
       "        19.08122566, 19.08611802, 19.09101037, 19.09590272, 19.10079507,\n",
       "        19.10568742, 19.11057978, 19.11547213, 19.12036448, 19.12525683,\n",
       "        19.13014919]),\n",
       " array([3.45049698, 3.54325314, 3.6360093 , 3.72876545, 3.82152161,\n",
       "        3.91427777, 4.00703393, 4.09979009, 4.19254625, 4.28530241,\n",
       "        4.37805857, 4.47081472, 4.56357088, 4.65632704, 4.7490832 ,\n",
       "        4.84183936, 4.93459552, 5.02735168, 5.12010784, 5.212864  ,\n",
       "        5.30562015, 5.39837631, 5.49113247, 5.58388863, 5.67664479,\n",
       "        5.76940095, 5.86215711, 5.95491327, 6.04766942, 6.14042558,\n",
       "        6.23318174, 6.3259379 , 6.41869406, 6.51145022, 6.60420638,\n",
       "        6.69696254, 6.7897187 , 6.88247485, 6.97523101, 7.06798717,\n",
       "        7.16074333, 7.25349949, 7.34625565, 7.43901181, 7.53176797,\n",
       "        7.62452412, 7.71728028, 7.81003644, 7.9027926 , 7.99554876,\n",
       "        8.08830492]),\n",
       " <matplotlib.image.AxesImage at 0x20a35e5d0>)"
      ]
     },
     "execution_count": 42,
     "metadata": {},
     "output_type": "execute_result"
    },
    {
     "data": {
      "image/png": "[encoded data removed]",
      "text/plain": [
       "<Figure size 432x288 with 1 Axes>"
      ]
     },
     "metadata": {},
     "output_type": "display_data"
    }
   ],
   "source": [
    "plt.hist2d(muList[1000:],isigmaList[1000:],bins=50)"
   ]
  },
  {
   "cell_type": "code",
   "execution_count": 92,
   "metadata": {
    "collapsed": true
   },
   "outputs": [],
   "source": [
    "#simulate gaussian data\n",
    "np.random.seed()\n",
    "\n",
    "mu_sim=20,\n",
    "std_sim=5,\n",
    "####### \n",
    "simData=np.random.normal(mu_sim,std_sim,2000)"
   ]
  },
  {
   "cell_type": "code",
   "execution_count": 93,
   "metadata": {
    "collapsed": true
   },
   "outputs": [],
   "source": [
    "#assmuing we do not inow mu_sim and std_sim.\n",
    "\n",
    "def getlogp(data,mu,istd):\n",
    "    logp=-0.5*np.log(2*np.pi)+0.5*np.log(istd**2)-(data-mu)**2/2.*istd**2\n",
    "    \n",
    "    return np.sum(logp)\n"
   ]
  },
  {
   "cell_type": "code",
   "execution_count": 94,
   "metadata": {},
   "outputs": [
    {
     "data": {
      "text/plain": [
       "-3489500.91251559"
      ]
     },
     "execution_count": 94,
     "metadata": {},
     "output_type": "execute_result"
    }
   ],
   "source": [
    "getlogp(simData,1,3)"
   ]
  },
  {
   "cell_type": "code",
   "execution_count": 127,
   "metadata": {},
   "outputs": [
    {
     "name": "stdout",
     "output_type": "stream",
     "text": [
      "12446\n",
      "Done\n"
     ]
    }
   ],
   "source": [
    "#the MCMC part\n",
    "\n",
    "mu0=np.random.exponential(2)\n",
    "istd0=np.random.exponential(1)\n",
    "\n",
    "P0=getlogp(simData,mu0,istd0)\n",
    "\n",
    "muList= [mu0]\n",
    "istdList=[ istd0]\n",
    "\n",
    "for i in range(100000):\n",
    "    muCand=muList[-1]+np.random.normal(0,0.5)\n",
    "    istdCand=istdList[-1]+np.random.normal(0,0.5)\n",
    "    \n",
    "    if istdCand<0 : #we only want positive values\n",
    "        continue\n",
    "    \n",
    "    P1=getlogp(simData,muCand,istdCand)\n",
    "    \n",
    "    u=np.random.uniform(0,1)\n",
    "\n",
    "    if P1>P0 or P1-P0>np.log(u):\n",
    "        #accept\n",
    "        P0=P1\n",
    "        #print muCand,1./istdCand,i\n",
    "        muList.append(muCand)\n",
    "        istdList.append(istdCand)\n",
    "    else:\n",
    "        #rect\n",
    "        #continue\n",
    "        muList.append(muList[-1])\n",
    "        istdList.append(istdList[-1])\n",
    "burn_in=3000\n",
    "goodMu=np.array(muList[burn_in:])\n",
    "goodstdList=1./np.array(istdList[burn_in:])\n",
    "\n",
    "goodMu=goodMu[::5]\n",
    "goodstdList=goodstdList[::5]\n",
    "\n",
    "\n",
    "print len(goodMu)\n",
    "print \"Done\""
   ]
  },
  {
   "cell_type": "code",
   "execution_count": 105,
   "metadata": {
    "collapsed": true
   },
   "outputs": [],
   "source": [
    "%matplotlib inline\n",
    "import matplotlib.pyplot as plt"
   ]
  },
  {
   "cell_type": "code",
   "execution_count": 129,
   "metadata": {},
   "outputs": [
    {
     "data": {
      "text/plain": [
       "(array([   9.,    0.,  102.,   78.,  437.,  475., 1098.,  791., 1600.,\n",
       "        1798., 1886., 1297.,  968.,  950.,  324.,  288.,  234.,   29.,\n",
       "          27.,   55.]),\n",
       " array([4.83099595, 4.85602712, 4.88105829, 4.90608946, 4.93112063,\n",
       "        4.9561518 , 4.98118297, 5.00621414, 5.03124531, 5.05627648,\n",
       "        5.08130765, 5.10633882, 5.13136999, 5.15640116, 5.18143233,\n",
       "        5.2064635 , 5.23149467, 5.25652584, 5.28155701, 5.30658818,\n",
       "        5.33161935]),\n",
       " <a list of 20 Patch objects>)"
      ]
     },
     "execution_count": 129,
     "metadata": {},
     "output_type": "execute_result"
    },
    {
     "data": {
      "image/png": "[encoded data removed]",
      "text/plain": [
       "<Figure size 432x288 with 1 Axes>"
      ]
     },
     "metadata": {},
     "output_type": "display_data"
    }
   ],
   "source": [
    "plt.hist(goodstdList,bins=20)"
   ]
  },
  {
   "cell_type": "code",
   "execution_count": null,
   "metadata": {
    "collapsed": true
   },
   "outputs": [],
   "source": []
  }
 ],
 "metadata": {
  "kernelspec": {
   "display_name": "Python 2",
   "language": "python",
   "name": "python2"
  },
  "language_info": {
   "codemirror_mode": {
    "name": "ipython",
    "version": 2
   },
   "file_extension": ".py",
   "mimetype": "text/x-python",
   "name": "python",
   "nbconvert_exporter": "python",
   "pygments_lexer": "ipython2",
   "version": "2.7.14"
  }
 },
 "nbformat": 4,
 "nbformat_minor": 2
}
