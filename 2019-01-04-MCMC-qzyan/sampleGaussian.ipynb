{
 "cells": [
  {
   "cell_type": "markdown",
   "metadata": {},
   "source": []
  },
  {
   "cell_type": "code",
   "execution_count": 7,
   "metadata": {
    "collapsed": true
   },
   "outputs": [],
   "source": [
    "def gaussPDF(x,mu,sigma):\n",
    "    return 1./np.sqrt(2*np.pi)/sigma*np.exp(-(x-mu)**2/2./sigma**2)"
   ]
  },
  {
   "cell_type": "code",
   "execution_count": 8,
   "metadata": {
    "collapsed": true
   },
   "outputs": [],
   "source": [
    "mu=8\n",
    "sigma=2"
   ]
  },
  {
   "cell_type": "code",
   "execution_count": 11,
   "metadata": {},
   "outputs": [
    {
     "data": {
      "text/plain": [
       "0.19947114020071635"
      ]
     },
     "execution_count": 11,
     "metadata": {},
     "output_type": "execute_result"
    }
   ],
   "source": [
    "gaussPDF(8,8,2)"
   ]
  },
  {
   "cell_type": "code",
   "execution_count": 14,
   "metadata": {
    "collapsed": true
   },
   "outputs": [],
   "source": [
    "x0=1.\n",
    "xList=[x0]\n",
    "P0=gaussPDF(x0,mu,sigma)"
   ]
  },
  {
   "cell_type": "code",
   "execution_count": 43,
   "metadata": {
    "collapsed": true
   },
   "outputs": [],
   "source": [
    "for i in range(20000):\n",
    "    xCand=xList[-1]+np.random.normal(0,1)\n",
    "    \n",
    "    P1=gaussPDF(xCand,mu,sigma)\n",
    "    #P1<P0\n",
    "    u=np.random.uniform(0,1)\n",
    "    \n",
    "    if P1/P0> u :\n",
    "        xList.append(xCand)\n",
    "        P0=P1\n",
    "    else:\n",
    "        xList.append(xList[-1])\n",
    "\n",
    " \n",
    "    "
   ]
  },
  {
   "cell_type": "code",
   "execution_count": 44,
   "metadata": {
    "collapsed": true
   },
   "outputs": [],
   "source": [
    "good=xList[1000:]"
   ]
  },
  {
   "cell_type": "code",
   "execution_count": 22,
   "metadata": {
    "collapsed": true
   },
   "outputs": [],
   "source": [
    "\n",
    "%matplotlib inline\n",
    "import matplotlib.pyplot as plt"
   ]
  },
  {
   "cell_type": "code",
   "execution_count": 45,
   "metadata": {},
   "outputs": [
    {
     "data": {
      "text/plain": [
       "(array([5.9000e+01, 5.5200e+02, 1.8580e+03, 2.2160e+03, 2.9220e+03,\n",
       "        5.0040e+03, 8.6990e+03, 1.4955e+04, 2.5566e+04, 3.0641e+04,\n",
       "        2.9065e+04, 2.0124e+04, 1.1508e+04, 6.5320e+03, 3.6860e+03,\n",
       "        2.4790e+03, 2.0430e+03, 9.4400e+02, 1.1900e+02, 2.9000e+01]),\n",
       " array([-1.25187821, -0.30007644,  0.65172534,  1.60352711,  2.55532889,\n",
       "         3.50713066,  4.45893244,  5.41073421,  6.36253598,  7.31433776,\n",
       "         8.26613953,  9.21794131, 10.16974308, 11.12154486, 12.07334663,\n",
       "        13.0251484 , 13.97695018, 14.92875195, 15.88055373, 16.8323555 ,\n",
       "        17.78415727]),\n",
       " <a list of 20 Patch objects>)"
      ]
     },
     "execution_count": 45,
     "metadata": {},
     "output_type": "execute_result"
    },
    {
     "data": {
      "image/png": "[encoded data removed]",
      "text/plain": [
       "<Figure size 432x288 with 1 Axes>"
      ]
     },
     "metadata": {},
     "output_type": "display_data"
    }
   ],
   "source": [
    "plt.hist(good,bins=20)"
   ]
  },
  {
   "cell_type": "code",
   "execution_count": 1,
   "metadata": {
    "collapsed": true
   },
   "outputs": [],
   "source": [
    "def gaussPDF(x,mu,sigma):\n",
    "    return 1./np.sqrt(2*np.pi)/sigma*np.exp(-(x-mu)**2/2./sigma**2)"
   ]
  },
  {
   "cell_type": "code",
   "execution_count": 2,
   "metadata": {
    "collapsed": true
   },
   "outputs": [],
   "source": [
    "MU=10.\n",
    "sigma=3.\n",
    "np.random.seed()\n",
    "X0=np.random.exponential(1)\n"
   ]
  },
  {
   "cell_type": "code",
   "execution_count": 3,
   "metadata": {
    "collapsed": true
   },
   "outputs": [],
   "source": [
    "Xlist=[float(X0)]\n",
    "\n",
    "P0=gaussPDF(X0,MU,sigma)\n",
    "\n",
    "\n",
    "for i in range(10000):\n",
    "    xCand=Xlist[-1]+np.random.normal(0,2)\n",
    " \n",
    "    P1=gaussPDF(xCand,MU,sigma)\n",
    "    alpha=min([1, P1/P0])\n",
    "    \n",
    "    u=np.random.uniform(0,1)\n",
    "    \n",
    "    if u<alpha:\n",
    "        #accept\n",
    "        \n",
    "        Xlist.append(xCand)\n",
    "        P0=P1\n",
    "    else:\n",
    "\n",
    "        Xlist.append(Xlist[-1])\n",
    "\n",
    "        \n",
    "#Xlist, is the targest distribution"
   ]
  },
  {
   "cell_type": "code",
   "execution_count": 4,
   "metadata": {},
   "outputs": [
    {
     "name": "stdout",
     "output_type": "stream",
     "text": [
      "10.004467273280726 2.945811132489973\n"
     ]
    }
   ],
   "source": [
    "print np.mean(Xlist),np.std(Xlist,ddof=1)"
   ]
  },
  {
   "cell_type": "code",
   "execution_count": 5,
   "metadata": {
    "collapsed": true
   },
   "outputs": [],
   "source": [
    "\n",
    "%matplotlib inline\n",
    "import matplotlib.pyplot as plt"
   ]
  },
  {
   "cell_type": "code",
   "execution_count": 6,
   "metadata": {},
   "outputs": [
    {
     "data": {
      "text/plain": [
       "(array([  11.,   13.,   15.,   64.,  134.,  275.,  451.,  736., 1150.,\n",
       "        1515., 1530., 1295., 1097.,  785.,  448.,  276.,  125.,   51.,\n",
       "          26.,    4.]),\n",
       " array([-1.43021042, -0.33673214,  0.75674614,  1.85022442,  2.9437027 ,\n",
       "         4.03718098,  5.13065926,  6.22413754,  7.31761582,  8.4110941 ,\n",
       "         9.50457238, 10.59805066, 11.69152894, 12.78500722, 13.8784855 ,\n",
       "        14.97196378, 16.06544206, 17.15892034, 18.25239862, 19.3458769 ,\n",
       "        20.43935518]),\n",
       " <a list of 20 Patch objects>)"
      ]
     },
     "execution_count": 6,
     "metadata": {},
     "output_type": "execute_result"
    },
    {
     "data": {
      "image/png": "[encoded data removed]",
      "text/plain": [
       "<Figure size 432x288 with 1 Axes>"
      ]
     },
     "metadata": {},
     "output_type": "display_data"
    }
   ],
   "source": [
    "\n",
    "plt.hist(Xlist,bins=20)\n",
    "\n"
   ]
  },
  {
   "cell_type": "code",
   "execution_count": null,
   "metadata": {
    "collapsed": true
   },
   "outputs": [],
   "source": []
  }
 ],
 "metadata": {
  "kernelspec": {
   "display_name": "Python 2",
   "language": "python",
   "name": "python2"
  },
  "language_info": {
   "codemirror_mode": {
    "name": "ipython",
    "version": 2
   },
   "file_extension": ".py",
   "mimetype": "text/x-python",
   "name": "python",
   "nbconvert_exporter": "python",
   "pygments_lexer": "ipython2",
   "version": "2.7.14"
  }
 },
 "nbformat": 4,
 "nbformat_minor": 2
}
