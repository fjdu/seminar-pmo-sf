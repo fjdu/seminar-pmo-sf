{
 "cells": [
  {
   "cell_type": "markdown",
   "metadata": {},
   "source": [
    "This script demenstrate the procedue of sampling Gaussian distribution with MCMC\n",
    "\n",
    "\n",
    "the PDF of Gaussian distribution ( mean $\\mu$ and std $\\sigma$) is\n",
    "\n",
    "$$ P\\left(x|\\mu,\\sigma \\right)= \\frac{1}{\\sqrt{2\\pi}\\sigma} \\exp\\left( -\\frac{\\left(x-\\mu\\right)^2}{2\\sigma^2} \\right)$$\n",
    "\n"
   ]
  },
  {
   "cell_type": "code",
   "execution_count": 1,
   "metadata": {
    "collapsed": true
   },
   "outputs": [],
   "source": [
    "def gaussPDF(x,mu,sigma):\n",
    "    return 1./np.sqrt(2*np.pi)/sigma*np.exp(-(x-mu)**2/2./sigma**2)"
   ]
  },
  {
   "cell_type": "code",
   "execution_count": 40,
   "metadata": {
    "collapsed": true
   },
   "outputs": [],
   "source": [
    "MU=10.\n",
    "sigma=3.\n",
    "np.random.seed()\n",
    "X0=np.random.exponential(1)\n"
   ]
  },
  {
   "cell_type": "code",
   "execution_count": 65,
   "metadata": {},
   "outputs": [],
   "source": [
    "Xlist=[float(X0)]\n",
    "\n",
    "P0=gaussPDF(X0,MU,sigma)\n",
    "\n",
    "\n",
    "for i in range(10000):\n",
    "    xCand=Xlist[-1]+np.random.normal(0,2)\n",
    " \n",
    "    P1=gaussPDF(xCand,MU,sigma)\n",
    "    alpha=min([1, P1/P0])\n",
    "    \n",
    "    u=np.random.uniform(0,1)\n",
    "    \n",
    "    if u<alpha:\n",
    "        #accept\n",
    "        \n",
    "        Xlist.append(xCand)\n",
    "        P0=P1\n",
    "    else:\n",
    "        #continue\n",
    "        Xlist.append(Xlist[-1])\n",
    "\n",
    "        \n",
    "#Xlist, is the targest distribution"
   ]
  },
  {
   "cell_type": "code",
   "execution_count": 67,
   "metadata": {},
   "outputs": [
    {
     "name": "stdout",
     "output_type": "stream",
     "text": [
      "10.110826428245081 3.1630961416628307\n"
     ]
    }
   ],
   "source": [
    "print np.mean(Xlist),np.std(Xlist,ddof=1)"
   ]
  },
  {
   "cell_type": "code",
   "execution_count": 19,
   "metadata": {
    "collapsed": true
   },
   "outputs": [],
   "source": [
    "\n",
    "%matplotlib inline\n",
    "import matplotlib.pyplot as plt"
   ]
  },
  {
   "cell_type": "code",
   "execution_count": 66,
   "metadata": {},
   "outputs": [
    {
     "data": {
      "text/plain": [
       "(array([   3.,    0.,   10.,   25.,   48.,  129.,  283.,  588.,  787.,\n",
       "        1195., 1325., 1372., 1278., 1109.,  816.,  540.,  291.,  129.,\n",
       "          48.,   25.]),\n",
       " array([-3.01372324, -1.86812491, -0.72252658,  0.42307175,  1.56867007,\n",
       "         2.7142684 ,  3.85986673,  5.00546506,  6.15106339,  7.29666172,\n",
       "         8.44226005,  9.58785838, 10.7334567 , 11.87905503, 13.02465336,\n",
       "        14.17025169, 15.31585002, 16.46144835, 17.60704668, 18.752645  ,\n",
       "        19.89824333]),\n",
       " <a list of 20 Patch objects>)"
      ]
     },
     "execution_count": 66,
     "metadata": {},
     "output_type": "execute_result"
    },
    {
     "data": {
      "image/png": "[encoded data removed]",
      "text/plain": [
       "<Figure size 432x288 with 1 Axes>"
      ]
     },
     "metadata": {},
     "output_type": "display_data"
    }
   ],
   "source": [
    "\n",
    "plt.hist(Xlist,bins=20)\n",
    "\n"
   ]
  },
  {
   "cell_type": "code",
   "execution_count": null,
   "metadata": {
    "collapsed": true
   },
   "outputs": [],
   "source": []
  }
 ],
 "metadata": {
  "kernelspec": {
   "display_name": "Python 2",
   "language": "python",
   "name": "python2"
  },
  "language_info": {
   "codemirror_mode": {
    "name": "ipython",
    "version": 2
   },
   "file_extension": ".py",
   "mimetype": "text/x-python",
   "name": "python",
   "nbconvert_exporter": "python",
   "pygments_lexer": "ipython2",
   "version": "2.7.14"
  }
 },
 "nbformat": 4,
 "nbformat_minor": 2
}
